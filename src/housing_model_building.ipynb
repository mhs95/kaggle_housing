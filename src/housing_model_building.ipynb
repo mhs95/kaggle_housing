{
 "cells": [
  {
   "cell_type": "markdown",
   "id": "a2b2cf6d",
   "metadata": {},
   "source": [
    "### Import necessary packages"
   ]
  },
  {
   "cell_type": "code",
   "execution_count": 1,
   "id": "354a2073",
   "metadata": {},
   "outputs": [],
   "source": [
    "import numpy as np\n",
    "from math import sqrt\n",
    "import pandas as pd\n",
    "import matplotlib.pyplot as plt\n",
    "import seaborn as sns\n",
    "\n",
    "from sklearn.model_selection import train_test_split, GridSearchCV\n",
    "from sklearn.neighbors import KNeighborsRegressor\n",
    "from sklearn.linear_model import LinearRegression, RidgeCV, LassoCV\n",
    "from sklearn.preprocessing import StandardScaler, OneHotEncoder, PolynomialFeatures\n",
    "from sklearn.impute import SimpleImputer\n",
    "from sklearn.metrics import mean_squared_error\n",
    "from sklearn.ensemble import RandomForestRegressor, GradientBoostingRegressor\n",
    "\n",
    "%matplotlib inline"
   ]
  },
  {
   "cell_type": "markdown",
   "id": "cd9b68f3",
   "metadata": {},
   "source": [
    "### Load data "
   ]
  },
  {
   "cell_type": "code",
   "execution_count": 2,
   "id": "48c862c5",
   "metadata": {},
   "outputs": [],
   "source": [
    "# Set data path and load training data\n",
    "file_path = \"../data/input\"\n",
    "\n",
    "train_full = pd.read_csv(f'{file_path}/train.csv')"
   ]
  },
  {
   "cell_type": "markdown",
   "id": "f7d309cc",
   "metadata": {},
   "source": [
    "### Feature Engineering "
   ]
  },
  {
   "cell_type": "code",
   "execution_count": 3,
   "id": "a1bd0605",
   "metadata": {},
   "outputs": [
    {
     "name": "stdout",
     "output_type": "stream",
     "text": [
      "Id: 0.0\n",
      "MSSubClass: 0.0\n",
      "MSZoning: 0.0\n",
      "LotFrontage: 0.1773972602739726\n",
      "LotArea: 0.0\n",
      "Street: 0.0\n",
      "Alley: 0.9376712328767123\n",
      "LotShape: 0.0\n",
      "LandContour: 0.0\n",
      "Utilities: 0.0\n",
      "LotConfig: 0.0\n",
      "LandSlope: 0.0\n",
      "Neighborhood: 0.0\n",
      "Condition1: 0.0\n",
      "Condition2: 0.0\n",
      "BldgType: 0.0\n",
      "HouseStyle: 0.0\n",
      "OverallQual: 0.0\n",
      "OverallCond: 0.0\n",
      "YearBuilt: 0.0\n",
      "YearRemodAdd: 0.0\n",
      "RoofStyle: 0.0\n",
      "RoofMatl: 0.0\n",
      "Exterior1st: 0.0\n",
      "Exterior2nd: 0.0\n",
      "MasVnrType: 0.005479452054794521\n",
      "MasVnrArea: 0.005479452054794521\n",
      "ExterQual: 0.0\n",
      "ExterCond: 0.0\n",
      "Foundation: 0.0\n",
      "BsmtQual: 0.025342465753424658\n",
      "BsmtCond: 0.025342465753424658\n",
      "BsmtExposure: 0.026027397260273973\n",
      "BsmtFinType1: 0.025342465753424658\n",
      "BsmtFinSF1: 0.0\n",
      "BsmtFinType2: 0.026027397260273973\n",
      "BsmtFinSF2: 0.0\n",
      "BsmtUnfSF: 0.0\n",
      "TotalBsmtSF: 0.0\n",
      "Heating: 0.0\n",
      "HeatingQC: 0.0\n",
      "CentralAir: 0.0\n",
      "Electrical: 0.0006849315068493151\n",
      "1stFlrSF: 0.0\n",
      "2ndFlrSF: 0.0\n",
      "LowQualFinSF: 0.0\n",
      "GrLivArea: 0.0\n",
      "BsmtFullBath: 0.0\n",
      "BsmtHalfBath: 0.0\n",
      "FullBath: 0.0\n",
      "HalfBath: 0.0\n",
      "BedroomAbvGr: 0.0\n",
      "KitchenAbvGr: 0.0\n",
      "KitchenQual: 0.0\n",
      "TotRmsAbvGrd: 0.0\n",
      "Functional: 0.0\n",
      "Fireplaces: 0.0\n",
      "FireplaceQu: 0.4726027397260274\n",
      "GarageType: 0.05547945205479452\n",
      "GarageYrBlt: 0.05547945205479452\n",
      "GarageFinish: 0.05547945205479452\n",
      "GarageCars: 0.0\n",
      "GarageArea: 0.0\n",
      "GarageQual: 0.05547945205479452\n",
      "GarageCond: 0.05547945205479452\n",
      "PavedDrive: 0.0\n",
      "WoodDeckSF: 0.0\n",
      "OpenPorchSF: 0.0\n",
      "EnclosedPorch: 0.0\n",
      "3SsnPorch: 0.0\n",
      "ScreenPorch: 0.0\n",
      "PoolArea: 0.0\n",
      "PoolQC: 0.9952054794520548\n",
      "Fence: 0.8075342465753425\n",
      "MiscFeature: 0.963013698630137\n",
      "MiscVal: 0.0\n",
      "MoSold: 0.0\n",
      "YrSold: 0.0\n",
      "SaleType: 0.0\n",
      "SaleCondition: 0.0\n",
      "SalePrice: 0.0\n"
     ]
    }
   ],
   "source": [
    "# Get a count of missing values for each variable\n",
    "for var in train_full.columns:\n",
    "    total_na = train_full[var].isnull().sum()\n",
    "    print(f'{var}: {total_na/len(train_full)}')"
   ]
  },
  {
   "cell_type": "code",
   "execution_count": null,
   "id": "6e2e6862",
   "metadata": {},
   "outputs": [],
   "source": [
    "# LotFrontage can be imputed using a simple mean strategy\n",
    "# Alley NA values correspond to no alley. Should convert \"Na\" to \"No\" alley\n",
    "# MasVnrType and MasVnArea missing values can be dropped \n",
    "# For all basement variables, NA values correspond to there being no basement. Should convert \"Na\" to \"No\" basement\n",
    "# Electrical missing values can be dropped\n",
    "# FireplaceQu missing means no fireplace in the house. Should convert \"Na\" to \"No\" fireplace. \n",
    "# For all garage variables, Na values correspond to there being no garage. Should convert \"Na\" to \"No\" garage. \n",
    "# For pool, fence and miscfeature variables, NA values correspond to there being no feature. Should convert \"Na\" to \"No\" feature. "
   ]
  },
  {
   "cell_type": "code",
   "execution_count": 4,
   "id": "ead652c7",
   "metadata": {},
   "outputs": [],
   "source": [
    "# Converting \"Nas\" to \"No\" for variables where it makes sense \n",
    "\n",
    "# Create a list for categorical variables to convert\n",
    "vars_to_convert = ['Alley', 'BsmtQual', 'BsmtCond', 'BsmtExposure', 'BsmtFinType1', 'BsmtFinType2', \n",
    "                   'FireplaceQu', 'GarageType', 'GarageYrBlt', 'GarageFinish',\n",
    "                   'GarageQual', 'GarageCond', 'PoolQC', 'Fence', 'MiscFeature']\n",
    "\n",
    "# Loop through the list and convert variable value \n",
    "for var in vars_to_convert:\n",
    "    train_full[var] = train_full[var].fillna('feature_missing')"
   ]
  },
  {
   "cell_type": "code",
   "execution_count": 5,
   "id": "d6daf5f0",
   "metadata": {},
   "outputs": [],
   "source": [
    "# Drop rows that have a small proportion of missing values for categorical variables that we cannot impute\n",
    "\n",
    "vars_to_drop = ['MasVnrType', 'MasVnrArea', 'Electrical']\n",
    "train_full = train_full.dropna(subset = vars_to_drop)"
   ]
  },
  {
   "cell_type": "code",
   "execution_count": 6,
   "id": "0087384f",
   "metadata": {},
   "outputs": [],
   "source": [
    "# Drop 'ID' as that is not useful \n",
    "train_full = train_full.drop('Id', axis=1)"
   ]
  },
  {
   "cell_type": "code",
   "execution_count": 7,
   "id": "10899784",
   "metadata": {},
   "outputs": [],
   "source": [
    "# Make sure all values of object columns are recast as strings\n",
    "object_cols = [col for col in train_full.columns if train_full[col].dtype == 'object']\n",
    "\n",
    "for col in object_cols:\n",
    "    train_full[col] = train_full[col].astype(str)"
   ]
  },
  {
   "cell_type": "markdown",
   "id": "2cd603da",
   "metadata": {},
   "source": [
    "### Model Building Data Preparation"
   ]
  },
  {
   "cell_type": "code",
   "execution_count": 8,
   "id": "0b338ec7",
   "metadata": {},
   "outputs": [],
   "source": [
    "# Create X and y objects\n",
    "X = train_full.drop('SalePrice', axis=1)\n",
    "y = train_full['SalePrice']"
   ]
  },
  {
   "cell_type": "code",
   "execution_count": 9,
   "id": "8bbd6cff",
   "metadata": {},
   "outputs": [],
   "source": [
    "# Create objects for numerical and categorical columns\n",
    "object_cols = [col for col in X.columns if X[col].dtype == 'object']\n",
    "numerical_cols = [col for col in X.columns if X[col].dtype in ['int64', 'float64']]"
   ]
  },
  {
   "cell_type": "code",
   "execution_count": 10,
   "id": "e7a4e259",
   "metadata": {},
   "outputs": [],
   "source": [
    "# Split into training and validation set\n",
    "X_train, X_valid, y_train, y_valid = train_test_split(X,y, random_state=100)"
   ]
  },
  {
   "cell_type": "code",
   "execution_count": 11,
   "id": "154d80e4",
   "metadata": {},
   "outputs": [
    {
     "name": "stderr",
     "output_type": "stream",
     "text": [
      "/Users/hassansaad/opt/anaconda3/lib/python3.7/site-packages/ipykernel_launcher.py:3: SettingWithCopyWarning: \n",
      "A value is trying to be set on a copy of a slice from a DataFrame.\n",
      "Try using .loc[row_indexer,col_indexer] = value instead\n",
      "\n",
      "See the caveats in the documentation: https://pandas.pydata.org/pandas-docs/stable/user_guide/indexing.html#returning-a-view-versus-a-copy\n",
      "  This is separate from the ipykernel package so we can avoid doing imports until\n",
      "/Users/hassansaad/opt/anaconda3/lib/python3.7/site-packages/ipykernel_launcher.py:4: SettingWithCopyWarning: \n",
      "A value is trying to be set on a copy of a slice from a DataFrame.\n",
      "Try using .loc[row_indexer,col_indexer] = value instead\n",
      "\n",
      "See the caveats in the documentation: https://pandas.pydata.org/pandas-docs/stable/user_guide/indexing.html#returning-a-view-versus-a-copy\n",
      "  after removing the cwd from sys.path.\n"
     ]
    }
   ],
   "source": [
    "# Impute LotFrontage variable in train and validation set\n",
    "imp = SimpleImputer(strategy='mean')\n",
    "X_train['LotFrontage'] = imp.fit_transform(X_train[['LotFrontage']])\n",
    "X_valid['LotFrontage'] = imp.transform(X_valid[['LotFrontage']])"
   ]
  },
  {
   "cell_type": "code",
   "execution_count": 12,
   "id": "3bf3e199",
   "metadata": {},
   "outputs": [],
   "source": [
    "# For categorical variables in train and validation, convert to dummies\n",
    "\n",
    "# Apply one-hot encoder to each column with categorical data\n",
    "OH_encoder = OneHotEncoder(handle_unknown='ignore', sparse=False)\n",
    "OH_cols_train = pd.DataFrame(OH_encoder.fit_transform(X_train[object_cols]))\n",
    "OH_cols_valid = pd.DataFrame(OH_encoder.transform(X_valid[object_cols]))\n",
    "\n",
    "# One-hot encoding removed index; put it back\n",
    "OH_cols_train.index = X_train.index\n",
    "OH_cols_train.columns = OH_encoder.get_feature_names()\n",
    "OH_cols_valid.index = X_valid.index\n",
    "OH_cols_valid.columns = OH_encoder.get_feature_names()\n",
    "\n",
    "# Remove categorical columns (will replace with one-hot encoding)\n",
    "num_X_train = X_train.drop(object_cols, axis=1)\n",
    "num_X_valid = X_valid.drop(object_cols, axis=1)\n",
    "\n",
    "# Add one-hot encoded columns to numerical features\n",
    "X_train = pd.concat([num_X_train, OH_cols_train], axis=1)\n",
    "X_valid = pd.concat([num_X_valid, OH_cols_valid], axis=1)"
   ]
  },
  {
   "cell_type": "code",
   "execution_count": 13,
   "id": "8ed7e10f",
   "metadata": {},
   "outputs": [],
   "source": [
    "# For numerical variables in train and test, standardize the variables\n",
    "scaler = StandardScaler()\n",
    "X_train[numerical_cols] = scaler.fit_transform(X_train[numerical_cols])\n",
    "X_valid[numerical_cols] = scaler.transform(X_valid[numerical_cols])"
   ]
  },
  {
   "cell_type": "markdown",
   "id": "ab3275df",
   "metadata": {},
   "source": [
    "### Model Building"
   ]
  },
  {
   "cell_type": "code",
   "execution_count": 14,
   "id": "ae5d6d68",
   "metadata": {},
   "outputs": [],
   "source": [
    "# Create function to calculate root mean squared error\n",
    "def root_mse(y_test,y_preds):\n",
    "    error = mean_squared_error(y_test,y_preds)\n",
    "    return sqrt(error)"
   ]
  },
  {
   "cell_type": "code",
   "execution_count": 15,
   "id": "f1a32494",
   "metadata": {},
   "outputs": [
    {
     "name": "stdout",
     "output_type": "stream",
     "text": [
      "Root Mean Squared Error: 20197107555668.18\n"
     ]
    }
   ],
   "source": [
    "# Simple linear regression with no regularization\n",
    "lm = LinearRegression()\n",
    "lm_model = lm.fit(X_train,y_train)\n",
    "lm_preds = lm_model.predict(X_valid)\n",
    "print(f'Root Mean Squared Error: {root_mse(y_valid, lm_preds)}')"
   ]
  },
  {
   "cell_type": "code",
   "execution_count": 16,
   "id": "4b91be6b",
   "metadata": {},
   "outputs": [
    {
     "name": "stdout",
     "output_type": "stream",
     "text": [
      "Root Mean Squared Error: 26555.665762069588\n"
     ]
    }
   ],
   "source": [
    "# Ridge regression with cross-validation\n",
    "alphas = [0.001,0.01,0.1,1.0,10.0]\n",
    "ridge = RidgeCV(alphas = alphas, scoring = 'neg_mean_squared_error', cv =5)\n",
    "ridge_model = ridge.fit(X_train,y_train)\n",
    "ridge_preds = ridge_model.predict(X_valid)\n",
    "print(f'Root Mean Squared Error: {root_mse(y_valid, ridge_preds)}')"
   ]
  },
  {
   "cell_type": "code",
   "execution_count": 17,
   "id": "7927c05b",
   "metadata": {},
   "outputs": [
    {
     "name": "stderr",
     "output_type": "stream",
     "text": [
      "/Users/hassansaad/opt/anaconda3/lib/python3.7/site-packages/sklearn/linear_model/_coordinate_descent.py:528: ConvergenceWarning: Objective did not converge. You might want to increase the number of iterations. Duality gap: 25231961850.26523, tolerance: 642484499.7229829\n",
      "  tol, rng, random, positive)\n"
     ]
    },
    {
     "name": "stdout",
     "output_type": "stream",
     "text": [
      "Root Mean Squared Error: 34632.26494565253\n"
     ]
    }
   ],
   "source": [
    "# Lasso regression with cross-validation\n",
    "lasso = LassoCV(alphas=alphas, cv=10, max_iter=10000)\n",
    "lasso_model = lasso.fit(X_train,y_train)\n",
    "lasso_preds = lasso_model.predict(X_valid)\n",
    "print(f'Root Mean Squared Error: {root_mse(y_valid, lasso_preds)}')"
   ]
  },
  {
   "cell_type": "code",
   "execution_count": 18,
   "id": "79c934a4",
   "metadata": {},
   "outputs": [
    {
     "name": "stdout",
     "output_type": "stream",
     "text": [
      "{2: 2.4146377870429336e+16, 3: 50427.33190209553, 4: 46756.11647712288}\n",
      "Optimal polynomial degree: [4]\n"
     ]
    }
   ],
   "source": [
    "# Polynomial regression with cross-validation\n",
    "# Only run on numerical columns\n",
    "\n",
    "X_train_num = X_train[numerical_cols]\n",
    "X_valid_num = X_valid[numerical_cols]\n",
    "\n",
    "# initialize empty dict\n",
    "scores = {}\n",
    "\n",
    "# Cross val with polynomial with degree 2 through 4\n",
    "for d in range(2,5):\n",
    "    poly = PolynomialFeatures(degree=d)\n",
    "    X_train_poly = poly.fit_transform(X_train_num)\n",
    "    X_valid_poly = poly.transform(X_valid_num)\n",
    "    lm = LinearRegression()\n",
    "    lm_model = lm.fit(X_train_poly,y_train)\n",
    "    lm_preds = lm_model.predict(X_valid_poly)\n",
    "    score = root_mse(y_valid,lm_preds)\n",
    "    scores[d] = score\n",
    "    \n",
    "minval = min(scores.values())\n",
    "mindegree = [k for k,v in scores.items() if v == minval]\n",
    "    \n",
    "print(scores)\n",
    "print(f'Optimal polynomial degree: {mindegree}')"
   ]
  },
  {
   "cell_type": "code",
   "execution_count": 20,
   "id": "44f161ee",
   "metadata": {},
   "outputs": [
    {
     "name": "stdout",
     "output_type": "stream",
     "text": [
      "Best parameters: {'max_depth': 20, 'n_estimators': 600}\n",
      "Root Mean Squared Error from optimized random forest: 27219.474693756893\n"
     ]
    }
   ],
   "source": [
    "# Random forest regression with cross-validation\n",
    "rf_params = {'n_estimators': [int(x) for x in np.linspace(start = 200, stop = 1000, num = 5)],\n",
    "             'max_depth': [10,20,40,80,100] }\n",
    "\n",
    "rf = RandomForestRegressor(random_state=100)\n",
    "\n",
    "rf_cv = GridSearchCV(rf, rf_params)\n",
    "rf_cv.fit(X_train,y_train)\n",
    "\n",
    "print(f'Best parameters: {rf_cv.best_params_}') \n",
    "rf_cv_preds = rf_cv.predict(X_valid) \n",
    "print(f'Root Mean Squared Error from Optimized Random Forest: {root_mse(y_valid, rf_cv_preds)}')"
   ]
  },
  {
   "cell_type": "code",
   "execution_count": 19,
   "id": "c6f6a1b3",
   "metadata": {},
   "outputs": [
    {
     "name": "stdout",
     "output_type": "stream",
     "text": [
      "Best parameters: {'learning_rate': 0.2, 'n_estimators': 100}\n",
      "Score from optimized GB: 24718.41572118271\n"
     ]
    }
   ],
   "source": [
    "# Gradient boosting regressor with cross-validation\n",
    "gb_params = {'n_estimators': [100,200,400,800,1000], 'learning_rate': [0.001, 0.01, 0.1, 0.2, 0.3]}\n",
    "\n",
    "gb = GradientBoostingRegressor(random_state=100)\n",
    "\n",
    "gb_cv = GridSearchCV(gb, gb_params)\n",
    "gb_cv.fit(X_train,y_train)\n",
    "\n",
    "print(f'Best parameters: {gb_cv.best_params_}') \n",
    "gb_cv_preds = gb_cv.predict(X_valid) \n",
    "print(f'Root Mean Squared Error from Optimized GB: {root_mse(y_valid, gb_cv_preds)}')"
   ]
  },
  {
   "cell_type": "markdown",
   "id": "35ab34a0",
   "metadata": {},
   "source": [
    "#### GBM with 0.2 learning rate and 100 estimators provides the lowest RMSE"
   ]
  },
  {
   "cell_type": "code",
   "execution_count": null,
   "id": "7aef46d8",
   "metadata": {},
   "outputs": [],
   "source": []
  }
 ],
 "metadata": {
  "kernelspec": {
   "display_name": "Python 3 (ipykernel)",
   "language": "python",
   "name": "python3"
  },
  "language_info": {
   "codemirror_mode": {
    "name": "ipython",
    "version": 3
   },
   "file_extension": ".py",
   "mimetype": "text/x-python",
   "name": "python",
   "nbconvert_exporter": "python",
   "pygments_lexer": "ipython3",
   "version": "3.7.7"
  }
 },
 "nbformat": 4,
 "nbformat_minor": 5
}
